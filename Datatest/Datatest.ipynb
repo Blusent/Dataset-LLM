{
 "cells": [
  {
   "cell_type": "code",
   "execution_count": 2,
   "id": "224fbb74-2f21-4c2c-883c-f6db8443f304",
   "metadata": {},
   "outputs": [
    {
     "data": {
      "text/plain": [
       "'2.2.2'"
      ]
     },
     "execution_count": 2,
     "metadata": {},
     "output_type": "execute_result"
    }
   ],
   "source": [
    "import pandas\n",
    "pandas.__version__"
   ]
  },
  {
   "cell_type": "code",
   "execution_count": 3,
   "id": "76cad7a3-1765-4e09-ac38-6c732a822596",
   "metadata": {},
   "outputs": [],
   "source": [
    "import pandas as pd\n",
    "\n",
    "# Crear un DataFrame vacío con columnas específicas\n",
    "data = {'Name': [], 'Context': [], 'Problem': [], 'Solution': []}\n",
    "df = pd.DataFrame(data)\n",
    "\n",
    "# Definir los patrones de diseño como una lista de diccionarios\n",
    "patterns = [\n",
    "     {'Name': 'Singleton', 'Context': 'Object creation', 'Problem': 'Ensure a class has only one instance and provides a global point of access to it.', 'Solution': 'The class controls the instantiation and makes sure that only one instance is created.'}\n",
    "]\n",
    "\n",
    "# Crear un nuevo DataFrame a partir de la lista de patrones\n",
    "new_df = pd.DataFrame(patterns)\n",
    "\n",
    "# Concatenar el nuevo DataFrame con el existente\n",
    "df = pd.concat([df, new_df], ignore_index=True)\n",
    "\n",
    "# Guardar el DataFrame como un archivo CSV\n",
    "df.to_csv('design_patterns.csv', index=False)"
   ]
  },
  {
   "cell_type": "code",
   "execution_count": 4,
   "id": "73f6d9cc-953d-4415-8548-3e1c850c9998",
   "metadata": {},
   "outputs": [],
   "source": [
    "# Cargar el archivo CSV existente (ajusta la ruta si es necesario)\n",
    "df = pd.read_csv('design_patterns.csv', sep=',', encoding='utf-8')  # Asegúrate de que el delimitador sea una coma\n",
    "\n",
    "# Añadir nuevos patrones (si es necesario)\n",
    "new_patterns = [ \n",
    "    {'Name': 'Adapter', 'Context': 'System integration', 'Problem': 'Two classes with incompatible interfaces need to work together.', 'Solution': 'Converts the interface of a class into another interface the client expects, allowing incompatible classes to work together.'},\n",
    "    \n",
    "    {'Name': 'Decorator', 'Context': 'Dynamic behavior extension', 'Problem': 'Need to add responsibilities to objects dynamically and flexibly without modifying their code.', 'Solution': 'Attaches additional responsibilities to an object dynamically, providing a flexible alternative to subclassing for extending functionality.'},\n",
    "    \n",
    "    {'Name': 'Strategy', 'Context': 'Algorithm selection at runtime', 'Problem': 'Need to define a family of algorithms and make them interchangeable so the client can choose one at runtime.', 'Solution': 'Defines a family of algorithms, encapsulates each one, and makes them interchangeable, allowing the algorithm to vary independently from the clients that use it.'},\n",
    "    \n",
    "    {'Name': 'Command', 'Context': 'Operation invocation', 'Problem': 'Need to encapsulate a request as an object, allowing clients to be parameterized with queues, requests, and operations that can be undone.', 'Solution': 'Encapsulates a request as an object, allowing clients to be parameterized with different requests, queues, or logs, and supports undoable operations.'},\n",
    "    \n",
    "    {'Name': 'Facade', 'Context': 'Interface simplification', 'Problem': 'Need to provide a simplified interface to a complex subsystem.', 'Solution': 'Provides a unified interface to a set of interfaces in a subsystem, defining a higher-level interface that makes the subsystem easier to use.'},\n",
    "    \n",
    "    {'Name': 'Proxy', 'Context': 'Access control and resource optimization', 'Problem': 'Need to control access to an object or optimize the use of costly resources.', 'Solution': 'Provides a surrogate or placeholder for another object to control access to it.'},\n",
    "    \n",
    "    {'Name': 'Builder', 'Context': 'Complex object construction', 'Problem': 'Need to construct a complex object step by step and allow the same construction process to create different representations.', 'Solution': 'Separates the construction of a complex object from its representation, allowing the same construction process to create different representations.'},\n",
    "    \n",
    "    {'Name': 'State', 'Context': 'Behavioral change based on state', 'Problem': 'An object changes its behavior when its internal state changes.', 'Solution': 'Allows an object to alter its behavior when its internal state changes. The object will appear to change its class.'},\n",
    "    \n",
    "    {'Name': 'Template Method', 'Context': 'Algorithm definition in superclass', 'Problem': 'Need to define the skeleton of an algorithm in a base class, allowing subclasses to redefine certain steps of the algorithm without changing its structure.', 'Solution': 'Defines the skeleton of an algorithm in an operation, deferring some steps to subclasses. Template Method lets subclasses redefine certain steps of an algorithm without changing its structure.'},\n",
    "    \n",
    "    {'Name': 'Chain of Responsibility', 'Context': 'Request handling through a chain of handlers', 'Problem': 'Need to decouple the sender of a request from its handling, allowing multiple objects to have the opportunity to handle the request.', 'Solution': 'Avoids coupling the sender of a request to its receiver by giving more than one object a chance to handle the request. Chains the receiving objects and passes the request along the chain until an object handles it.'},\n",
    "    \n",
    "    {'Name': 'Mediator', 'Context': 'Object communication', 'Problem': 'Need to reduce direct dependencies between communicating objects, leading to a tightly coupled system.', 'Solution': 'Defines an object that encapsulates how a set of objects interact, promoting loose coupling by preventing objects from referring to each other explicitly.'},\n",
    "    \n",
    "    {'Name': 'Factory Method', 'Context': 'Object creation', 'Problem': 'Need to create objects of different classes related without exposing the creation logic to the client.', 'Solution': 'Defines an interface for creating an object, but lets subclasses decide which class to instantiate.'},\n",
    "    \n",
    "    {'Name': 'Observer', 'Context': 'Object communication', 'Problem': 'Need for an object to notify other objects when its state changes.', 'Solution': 'Defines a one-to-many dependency between objects so that when an object changes state, all its dependents are notified and updated automatically.'},\n",
    "    \n",
    "    {'Name': 'Abstract Factory', 'Context': 'Object creation', 'Problem': 'Need to create families of related objects without specifying their concrete classes.', 'Solution': 'Provides an interface for creating families of related or dependent objects without specifying their concrete classes.'},\n",
    "    \n",
    "    {'Name': 'Bridge', 'Context': 'Interface and implementation decoupling', 'Problem': 'Need to decouple an abstraction from its implementation so that the two can vary independently.', 'Solution': 'Decouples an abstraction from its implementation, allowing both to vary independently.'},\n",
    "    \n",
    "    {'Name': 'Prototype', 'Context': 'Object creation by copying', 'Problem': 'Need to create new objects by copying existing ones without knowing their classes.', 'Solution': 'Creates new objects by copying an existing object, known as a prototype, allowing for flexibility in object creation.'},\n",
    "    \n",
    "    {'Name': 'Composite', 'Context': 'Part-whole hierarchy representation', 'Problem': 'Need to compose objects into tree structures to represent part-whole hierarchies.', 'Solution': 'Composes objects into tree structures to represent part-whole hierarchies, allowing clients to treat individual objects and compositions uniformly.'},\n",
    "    \n",
    "    {'Name': 'Flyweight', 'Context': 'Memory optimization', 'Problem': 'Need to minimize memory usage by sharing as much data as possible with other similar objects.', 'Solution': 'Uses sharing to support large numbers of fine-grained objects efficiently by sharing common parts of the object’s state.'},\n",
    "    \n",
    "    {'Name': 'Iterator', 'Context': 'Access elements of a collection', 'Problem': 'Need to access the elements of a collection sequentially without exposing the underlying representation.', 'Solution': 'Provides a way to access the elements of a collection sequentially without exposing its underlying representation.'},\n",
    "    \n",
    "    {'Name': 'Memento', 'Context': 'State saving and restoration', 'Problem': 'Need to capture and externalize an object’s internal state without violating encapsulation, so that the object can be restored to this state later.', 'Solution': 'Captures an object’s internal state and saves it externally so that the object can be restored to this state later without violating encapsulation.'},\n",
    "    \n",
    "    {'Name': 'Visitor', 'Context': 'Operation on elements of an object structure', 'Problem': 'Need to define a new operation without changing the classes of the elements on which it operates.', 'Solution': 'Represents an operation to be performed on elements of an object structure, allowing new operations to be added without changing the element classes.'}\n",
    "]\n",
    "new_df = pd.DataFrame(new_patterns)\n",
    "\n",
    "# Concatenar el nuevo DataFrame con el existente\n",
    "df = pd.concat([df, new_df], ignore_index=True)\n",
    "\n",
    "# Guardar el DataFrame actualizado\n",
    "df.to_csv('design_patterns.csv', index=False)"
   ]
  },
  {
   "cell_type": "code",
   "execution_count": 5,
   "id": "8207f60a-def0-49da-9525-09747461082a",
   "metadata": {},
   "outputs": [
    {
     "name": "stdout",
     "output_type": "stream",
     "text": [
      "CSV saved.\n"
     ]
    }
   ],
   "source": [
    "df.to_csv('design_patterns.csv', sep=';', index=False)\n",
    "# Cargar el archivo CSV y verificar el contenido\n",
    "df = pd.read_csv('design_patterns.csv', sep=';', encoding='utf-8')  # Especifica el delimitador \n",
    "# Mostrar mensaje de confirmación\n",
    "print(\"CSV saved.\")\n",
    "\n"
   ]
  }
 ],
 "metadata": {
  "kernelspec": {
   "display_name": "Python 3 (ipykernel)",
   "language": "python",
   "name": "python3"
  },
  "language_info": {
   "codemirror_mode": {
    "name": "ipython",
    "version": 3
   },
   "file_extension": ".py",
   "mimetype": "text/x-python",
   "name": "python",
   "nbconvert_exporter": "python",
   "pygments_lexer": "ipython3",
   "version": "3.12.3"
  }
 },
 "nbformat": 4,
 "nbformat_minor": 5
}
